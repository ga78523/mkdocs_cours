{
 "cells": [
  {
   "attachments": {},
   "cell_type": "markdown",
   "metadata": {},
   "source": [
    "# <pre><strong>       DEVOIR DE NSI - 21/12/2023 </strong></pre>"
   ]
  },
  {
   "attachments": {},
   "cell_type": "markdown",
   "metadata": {},
   "source": [
    "### Exercice n°1\n",
    "<i><pre>          Les questions de cet exercice peuvent être traitées indépendamment les unes des autres</pre><i>\n",
    "\n",
    "voici une liste des mois de l'année :"
   ]
  },
  {
   "cell_type": "code",
   "execution_count": 5,
   "metadata": {},
   "outputs": [],
   "source": [
    "mois = [\"janvier\", \"février\", \"mars\", \"avril\", \"avril\", \"juin\", \"mai\", \"juilet\", \"aout\", \"septembre\", \"octobre\"]"
   ]
  },
  {
   "cell_type": "markdown",
   "metadata": {},
   "source": [
    "1. Écrire une (ou plusieurs) ligne(s) de code python qui permettra de remplacer le mois mal orthographié \"juilet\" par \"juillet\". "
   ]
  },
  {
   "cell_type": "code",
   "execution_count": null,
   "metadata": {},
   "outputs": [],
   "source": []
  },
  {
   "attachments": {},
   "cell_type": "markdown",
   "metadata": {},
   "source": [
    "2. Compléter le script afin d'inverser les 2 mois mal positionnés dans la liste, à savoir \"mai\" et \"juin\"."
   ]
  },
  {
   "cell_type": "code",
   "execution_count": null,
   "metadata": {},
   "outputs": [],
   "source": [
    "#1ère méthode"
   ]
  },
  {
   "cell_type": "code",
   "execution_count": null,
   "metadata": {},
   "outputs": [],
   "source": [
    "#2ème méthode\n"
   ]
  },
  {
   "attachments": {},
   "cell_type": "markdown",
   "metadata": {},
   "source": [
    "3. Compléter le script afin de rajouter les 2 mois manquants à la liste des mois. "
   ]
  },
  {
   "cell_type": "code",
   "execution_count": null,
   "metadata": {},
   "outputs": [],
   "source": [
    "# 1ère méthode\n"
   ]
  },
  {
   "cell_type": "code",
   "execution_count": null,
   "metadata": {},
   "outputs": [],
   "source": [
    "# 2ème méthode \n"
   ]
  },
  {
   "attachments": {},
   "cell_type": "markdown",
   "metadata": {},
   "source": [
    "### Exercice n°2 : \n",
    "1. Considérons la liste suivante :"
   ]
  },
  {
   "cell_type": "code",
   "execution_count": 6,
   "metadata": {},
   "outputs": [],
   "source": [
    "mois = [(\"janvier\", 31), (\"février\", 28),  (\"mars\", 31)]"
   ]
  },
  {
   "cell_type": "markdown",
   "metadata": {},
   "source": [
    "À partir de la liste précédente, écrire une (ou plusieurs) ligne(s) de code qui permettra d'afficher le nombre de jours du 2ème mois de l'année, à savoir février."
   ]
  },
  {
   "cell_type": "code",
   "execution_count": null,
   "metadata": {},
   "outputs": [],
   "source": []
  },
  {
   "cell_type": "markdown",
   "metadata": {},
   "source": [
    "\n",
    "2. Considérons la liste suivante :"
   ]
  },
  {
   "cell_type": "code",
   "execution_count": null,
   "metadata": {},
   "outputs": [],
   "source": [
    "notes = [ (\"maths\", [12, 17, 14,13]), (\"physique\", [9, 13, 12, 14]), (\"SVT\", [15, 17, 12, 18, 19]) ]"
   ]
  },
  {
   "cell_type": "markdown",
   "metadata": {},
   "source": [
    "À partir de la liste précédente, écrire une (ou plusieurs) ligne(s) de code qui permettra de remplacer la 3ème note de physique, à savoir 12, par la nouvelle note 14."
   ]
  },
  {
   "cell_type": "code",
   "execution_count": null,
   "metadata": {},
   "outputs": [],
   "source": []
  },
  {
   "cell_type": "markdown",
   "metadata": {},
   "source": [
    "###  Exercice n°3\n",
    "Écrire un programme qui vous demande un nombre entier n et génère automatiquement une liste de tuples contenant les n premiers nombres entiers (en partant de 0) ainsi que leur cube. Afficher la liste.<br>\n",
    "Exemple : si n = 4, le programme doit générer la liste python  : [(0,0), (1,1), (2,8), (3,27)]\n"
   ]
  },
  {
   "cell_type": "code",
   "execution_count": null,
   "metadata": {},
   "outputs": [],
   "source": []
  },
  {
   "attachments": {},
   "cell_type": "markdown",
   "metadata": {},
   "source": [
    "### Exercicen°4\n",
    "<i><pre>       Les questions de cet exercice peuvent être traitées indépendamment les unes des autres</pre><i>\n",
    "Un logiciel de notation affecte à chaque élève un dictionnaire où la <em><strong>clé</strong></em> est la discipline concernée et la <em><strong>valeur</em></strong> la moyenne obtenue dans cette discipline.    "
   ]
  },
  {
   "cell_type": "code",
   "execution_count": null,
   "metadata": {},
   "outputs": [],
   "source": [
    "Forey = {\"NSI\" :20, \"maths\":17, \"SVT\":8, \"français\":12, \"LV1\":5, \"LV2\":11, \"physique\":20, \"HG\":11, \"EPS\":9}\n",
    "Galand = {\"NSI\" :20, \"maths\":16, \"SVT\":14, \"français\":11, \"LV1\":15,  \"physique\":19, \"HG\":11, \"EPS\":12}\n"
   ]
  },
  {
   "attachments": {},
   "cell_type": "markdown",
   "metadata": {},
   "source": [
    "1. Il manque au dictionnaire Galand la LV2 où l'élève a obtenu une moyenne de 18.<br>\n",
    "Écrire une ou plusieurs lignes(s) de code qui permet de rajouter cette matière et la moyenne correspondante. Afficher le dictionnaire modifié."
   ]
  },
  {
   "cell_type": "code",
   "execution_count": null,
   "metadata": {},
   "outputs": [],
   "source": []
  },
  {
   "attachments": {},
   "cell_type": "markdown",
   "metadata": {},
   "source": [
    "2. Suite a des absences, une évaluation en EPS a été effectuée tardivement pour l'élève Forey et a modifié sa moyenne qui est passée à 7. Compléter le script afin de modifier la moyenne. "
   ]
  },
  {
   "cell_type": "code",
   "execution_count": null,
   "metadata": {},
   "outputs": [],
   "source": []
  },
  {
   "attachments": {},
   "cell_type": "markdown",
   "metadata": {},
   "source": [
    "3. Finalement, l'élève Forey ayant eu problèmes de santé, l'établissement décide de ne pas prendre en compte sa moyenne d'EPS. Compléter le script afin de supprimer le couple clé-valeur correspondant."
   ]
  },
  {
   "cell_type": "code",
   "execution_count": null,
   "metadata": {},
   "outputs": [],
   "source": []
  },
  {
   "attachments": {},
   "cell_type": "markdown",
   "metadata": {},
   "source": [
    "4. Compléter le code afin qu'il calcule la moyenne générale des élèves Forey et Galand et affiche le nom de l'élève ayant la meilleur moyenne générale.\n"
   ]
  },
  {
   "cell_type": "code",
   "execution_count": null,
   "metadata": {},
   "outputs": [],
   "source": []
  },
  {
   "attachments": {},
   "cell_type": "markdown",
   "metadata": {},
   "source": [
    "5. Compléter le script afin qu'il affiche, pour l'élève Galand,  la discipline où il obtient la meilleur moyenne, ainsi que la moyenne correspondante. "
   ]
  },
  {
   "cell_type": "code",
   "execution_count": null,
   "metadata": {},
   "outputs": [],
   "source": [
    "\n"
   ]
  },
  {
   "attachments": {},
   "cell_type": "markdown",
   "metadata": {},
   "source": [
    "### Exercice n°5\n",
    "Ecrire une fonction nommée <strong><em>dico_inverse</em></strong>  qui prend en argument un dictionnaire français-anglais dont voici un extrait :\n",
    "\n",
    "`{\"oui\": \"yes\", \"non\" : \"no\", \"si\" : \"if\", \"ou\" : \"or\", \"et\" : \"and\"}` \n",
    "\n",
    "et qui retourne le dictionnaire anglais français :\n",
    "\n",
    "`{\"yes\": \"oui\", \"no\":\"non\", \"if\" : \"si\", \"or\" : \"ou\", \"and\" : \"et\"}`"
   ]
  },
  {
   "cell_type": "code",
   "execution_count": null,
   "metadata": {},
   "outputs": [],
   "source": []
  },
  {
   "attachments": {},
   "cell_type": "markdown",
   "metadata": {},
   "source": [
    "### Exercice n°6\n",
    "Ecrire une fonction nommée <strong><em>occurence</em></strong> qui prend en argument une chaine de caractères et qui retourne un dictionnaire dont les clés sont toutes les lettres utilisées dans la chaine de caractère et la valeur le nombre de fois que la chaine figure dans la chaine de caractères."
   ]
  },
  {
   "cell_type": "code",
   "execution_count": null,
   "metadata": {},
   "outputs": [],
   "source": []
  }
 ],
 "metadata": {
  "kernelspec": {
   "display_name": "Python 3",
   "language": "python",
   "name": "python3"
  },
  "language_info": {
   "codemirror_mode": {
    "name": "ipython",
    "version": 3
   },
   "file_extension": ".py",
   "mimetype": "text/x-python",
   "name": "python",
   "nbconvert_exporter": "python",
   "pygments_lexer": "ipython3",
   "version": "3.11.0"
  },
  "orig_nbformat": 4,
  "vscode": {
   "interpreter": {
    "hash": "11bd27be44c57ae555fdf4cc9937c6ae091c27a93e7ee44c7f139a358d795eee"
   }
  }
 },
 "nbformat": 4,
 "nbformat_minor": 2
}
